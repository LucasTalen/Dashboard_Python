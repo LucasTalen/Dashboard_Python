{
  "nbformat": 4,
  "nbformat_minor": 0,
  "metadata": {
    "colab": {
      "provenance": [],
      "mount_file_id": "14o3VsY8sD_cv9DPiumZosy6ruX7iWJkd",
      "authorship_tag": "ABX9TyMfz2KiyqfmUR2+URDRj5ZY",
      "include_colab_link": true
    },
    "kernelspec": {
      "name": "python3",
      "display_name": "Python 3"
    },
    "language_info": {
      "name": "python"
    }
  },
  "cells": [
    {
      "cell_type": "markdown",
      "metadata": {
        "id": "view-in-github",
        "colab_type": "text"
      },
      "source": [
        "<a href=\"https://colab.research.google.com/github/LucasTalen/Dashboard_Python/blob/main/CursoPython.ipynb\" target=\"_parent\"><img src=\"https://colab.research.google.com/assets/colab-badge.svg\" alt=\"Open In Colab\"/></a>"
      ]
    },
    {
      "cell_type": "markdown",
      "source": [
        "# Logica de Programação\n",
        " \n",
        " 0 - Endender o desafio que você quer resolver\n",
        " \n",
        " 1 - Percorrer todos os arquivos da pasta base de dados (Vendas) \n",
        " \n",
        " 2 - Importar as bases de dados de vendas\n",
        " \n",
        " 3 - Tratar / Compilar as bases de dados\n",
        " \n",
        " 4 - Calcular o produto mais vendido em quantidade\n",
        " \n",
        " 5 - Calcular o produto que mais faturou (em faturamento)\n",
        " \n",
        " 6 - Calcular a loja/Cidade que mais vendeu(em faturamento)\n",
        " \n",
        " 7 - Criar um grafico/dashboard\n"
      ],
      "metadata": {
        "id": "zBUI_zaza5dV"
      }
    },
    {
      "cell_type": "code",
      "source": [
        "# Etapa 1\n",
        "import os\n",
        "import pandas as pd\n",
        "\n",
        "lista_arquivos = os.listdir(\"/content/drive/MyDrive/Python/Vendas-20230210T215750Z-001/Vendas\")\n",
        "\n",
        "print(lista_arquivos)\n",
        "\n"
      ],
      "metadata": {
        "id": "6DOAikrOYpxF"
      },
      "execution_count": null,
      "outputs": []
    },
    {
      "cell_type": "code",
      "source": [
        "# Etapa 2\n",
        "tabela_total = pd.DataFrame()\n",
        "\n",
        "for arquivo in lista_arquivos:\n",
        "  if (\"vendas\" in arquivo.lower()):\n",
        "    tabela = pd.read_csv(f\"/content/drive/MyDrive/Python/Vendas-20230210T215750Z-001/Vendas/{arquivo}\")\n",
        "    tabela_total = tabela_total.append(tabela)\n",
        "    "
      ],
      "metadata": {
        "id": "Fgoqzdplct1k"
      },
      "execution_count": 28,
      "outputs": []
    },
    {
      "cell_type": "code",
      "source": [
        "#Etapa 3\n",
        "display(tabela_total)"
      ],
      "metadata": {
        "id": "TMwmeSGovP9X"
      },
      "execution_count": null,
      "outputs": []
    },
    {
      "cell_type": "code",
      "source": [
        "#Etapa 4\n",
        "tabela_produto = tabela_total.groupby('Produto').sum()\n",
        "tabela_produto = tabela_produto[[\"Quantidade Vendida\",\"Preco Unitario\"]].sort_values(by=\"Quantidade Vendida\", ascending=False)\n",
        "display(tabela_produto)"
      ],
      "metadata": {
        "id": "eQGhixaJyFaE"
      },
      "execution_count": null,
      "outputs": []
    },
    {
      "cell_type": "code",
      "source": [
        "#Etapa 5\n",
        "tabela_total['Faturamento'] = tabela_total['Quantidade Vendida'] * tabela_total['Preco Unitario']\n",
        "tabela_faturamento = tabela_total.groupby('Produto').sum()\n",
        "tabela_faturamento = tabela_faturamento[[\"Faturamento\"]].sort_values(by=\"Faturamento\", ascending=False)\n",
        "display(tabela_faturamento)"
      ],
      "metadata": {
        "id": "oCt-PVZ9yK4m"
      },
      "execution_count": null,
      "outputs": []
    },
    {
      "cell_type": "code",
      "source": [
        "#Etapa 6\n",
        "tabela_loja = tabela_total.groupby('Loja').sum()\n",
        "tabela_loja = tabela_loja[['Faturamento']]\n",
        "display(tabela_loja)"
      ],
      "metadata": {
        "id": "4uDf1fdnyN8e"
      },
      "execution_count": null,
      "outputs": []
    },
    {
      "cell_type": "code",
      "source": [
        "#Etapa 7\n",
        "import plotly.express as px\n",
        "\n",
        "grafico = px.bar(tabela_loja, x=tabela_loja.index , y='Faturamento')\n",
        "grafico.show()"
      ],
      "metadata": {
        "id": "lE64QlR6ySLT"
      },
      "execution_count": null,
      "outputs": []
    }
  ]
}